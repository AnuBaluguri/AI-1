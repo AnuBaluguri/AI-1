{
  "nbformat": 4,
  "nbformat_minor": 0,
  "metadata": {
    "colab": {
      "name": "AI Assignment2. 447",
      "provenance": [],
      "collapsed_sections": [],
      "authorship_tag": "ABX9TyOFeui6LK2C+hXSpxpcS5BG",
      "include_colab_link": true
    },
    "kernelspec": {
      "name": "python3",
      "display_name": "Python 3"
    },
    "language_info": {
      "name": "python"
    }
  },
  "cells": [
    {
      "cell_type": "markdown",
      "metadata": {
        "id": "view-in-github",
        "colab_type": "text"
      },
      "source": [
        "<a href=\"https://colab.research.google.com/github/Nagasri37/AI/blob/main/AI_Assignment2_447.ipynb\" target=\"_parent\"><img src=\"https://colab.research.google.com/assets/colab-badge.svg\" alt=\"Open In Colab\"/></a>"
      ]
    },
    {
      "cell_type": "code",
      "metadata": {
        "colab": {
          "base_uri": "https://localhost:8080/"
        },
        "id": "9TKbnKVOTDeW",
        "outputId": "66cf4c89-80b1-414c-b034-6a98a1274c07"
      },
      "source": [
        " \n",
        "import numpy as np\n",
        "x=np.random.uniform(-5,5)\n",
        "eta=0.1\n",
        "iter_max=50\n",
        "iter=1\n",
        "while iter<=iter_max:\n",
        "  gradx = 4*x*x*x + 6*x\n",
        "  deltax=-eta*gradx\n",
        "  x=x+deltax\n",
        "  iter=iter+1\n",
        "obj=pow(x,4)+3*pow(x,2)+10\n",
        "print(\"Minimum =\",obj,\"at X=\",x,)"
      ],
      "execution_count": null,
      "outputs": [
        {
          "output_type": "stream",
          "name": "stdout",
          "text": [
            "Minimum = 10.0 at X= 1.3760179878472776e-21\n"
          ]
        }
      ]
    }
  ]
}