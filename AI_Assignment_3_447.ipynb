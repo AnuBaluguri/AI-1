{
  "nbformat": 4,
  "nbformat_minor": 0,
  "metadata": {
    "colab": {
      "name": "AI Assignment 3.447",
      "provenance": [],
      "collapsed_sections": [],
      "authorship_tag": "ABX9TyMIjDK85asteri5Q7ETcvQW",
      "include_colab_link": true
    },
    "kernelspec": {
      "name": "python3",
      "display_name": "Python 3"
    },
    "language_info": {
      "name": "python"
    }
  },
  "cells": [
    {
      "cell_type": "markdown",
      "metadata": {
        "id": "view-in-github",
        "colab_type": "text"
      },
      "source": [
        "<a href=\"https://colab.research.google.com/github/Nagasri37/AI/blob/main/AI_Assignment_3_447.ipynb\" target=\"_parent\"><img src=\"https://colab.research.google.com/assets/colab-badge.svg\" alt=\"Open In Colab\"/></a>"
      ]
    },
    {
      "cell_type": "code",
      "metadata": {
        "colab": {
          "base_uri": "https://localhost:8080/"
        },
        "id": "lSEfgvPSWDwd",
        "outputId": "dbb87e19-38e0-4fc7-bba8-d57e322f3de1"
      },
      "source": [
        "import numpy as np\n",
        "import math\n",
        "x=np.random.uniform(-10,10)\n",
        "y=np.random.uniform(-10,10)\n",
        "eta=0.1\n",
        "iter_max=30\n",
        "iter=1\n",
        "while iter<=iter_max:\n",
        "  gradx= 6*x\n",
        "  grady= -5*(math.exp(-y))\n",
        "  deltax=-eta*gradx\n",
        "  deltay=-eta*grady\n",
        "  x=x+deltax\n",
        "  y=y+deltay\n",
        "  iter=iter+1\n",
        "obj=3*x*x+5*math.exp(-y)+10\n",
        "print(\"Minimum =\",obj,\"at X=\",x,\"Y=\",y)"
      ],
      "execution_count": null,
      "outputs": [
        {
          "output_type": "stream",
          "name": "stdout",
          "text": [
            "Minimum = 10.302434604515451 at X= 1.6981312708009898e-12 Y= 2.805328120736344\n"
          ]
        }
      ]
    }
  ]
}